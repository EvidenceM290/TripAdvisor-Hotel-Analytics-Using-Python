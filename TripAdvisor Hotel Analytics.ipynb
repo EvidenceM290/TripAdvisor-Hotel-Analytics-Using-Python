{
 "cells": [
  {
   "cell_type": "markdown",
   "metadata": {},
   "source": [
    "### ITOM_6253_Assignment4\r\n"
   ]
  },
  {
   "cell_type": "markdown",
   "metadata": {},
   "source": [
    "## <span style=\"color:green;\">Evidence Madhume</span>.\r\n"
   ]
  },
  {
   "cell_type": "code",
   "execution_count": null,
   "metadata": {},
   "outputs": [],
   "source": []
  },
  {
   "cell_type": "markdown",
   "metadata": {},
   "source": [
    "**Q1:** Using pandas, import the hotels.csv and show the number of observations and columns."
   ]
  },
  {
   "cell_type": "code",
   "execution_count": 1,
   "metadata": {},
   "outputs": [
    {
     "name": "stdout",
     "output_type": "stream",
     "text": [
      "Number of observations (rows): 366644\n",
      "Number of columns: 31\n",
      "<class 'pandas.core.frame.DataFrame'>\n",
      "RangeIndex: 366644 entries, 0 to 366643\n",
      "Data columns (total 31 columns):\n",
      " #   Column                    Non-Null Count   Dtype  \n",
      "---  ------                    --------------   -----  \n",
      " 0   hotel_code                366644 non-null  int64  \n",
      " 1   country_code              366644 non-null  object \n",
      " 2   country_name              366644 non-null  object \n",
      " 3   location_code             366644 non-null  int64  \n",
      " 4   location_name             366642 non-null  object \n",
      " 5   hotel_type                366644 non-null  object \n",
      " 6   rooms                     335223 non-null  float64\n",
      " 7   bubble_rating             344126 non-null  float64\n",
      " 8   bubble_one                366644 non-null  int64  \n",
      " 9   bubble_two                366644 non-null  int64  \n",
      " 10  bubble_three              366644 non-null  int64  \n",
      " 11  bubble_four               366644 non-null  int64  \n",
      " 12  bubble_five               366644 non-null  int64  \n",
      " 13  page_position             366602 non-null  float64\n",
      " 14  out_of                    366602 non-null  float64\n",
      " 15  reviews                   366644 non-null  int64  \n",
      " 16  domestic_reviews          366644 non-null  int64  \n",
      " 17  international_reviews     366644 non-null  int64  \n",
      " 18  reviews_per_room          335223 non-null  float64\n",
      " 19  visitor_country1          366644 non-null  object \n",
      " 20  visitor_country2          366644 non-null  object \n",
      " 21  visitor_country3          366644 non-null  object \n",
      " 22  management_response_rate  344281 non-null  float64\n",
      " 23  independent_flag          366644 non-null  int64  \n",
      " 24  traffic                   366642 non-null  float64\n",
      " 25  traffic_per_room          335221 non-null  float64\n",
      " 26  OTA_region_rate           366644 non-null  float64\n",
      " 27  subscriber                366644 non-null  int64  \n",
      " 28  hotel                     366644 non-null  int64  \n",
      " 29  BandB                     366644 non-null  int64  \n",
      " 30  Specialty                 366644 non-null  int64  \n",
      "dtypes: float64(9), int64(15), object(7)\n",
      "memory usage: 86.7+ MB\n",
      "None\n"
     ]
    }
   ],
   "source": [
    "import pandas as pd \n",
    "\n",
    "# Importing the hotel data using pandas\n",
    "hotels_df = pd.read_csv('hotels.csv')\n",
    "\n",
    "# Show the number of observations (rows) and columns\n",
    "observations, columns = hotels_df.shape  \n",
    "print(f\"Number of observations (rows): {observations}\")\n",
    "print(f\"Number of columns: {columns}\")\n",
    "print(hotels_df.info())\n"
   ]
  },
  {
   "cell_type": "markdown",
   "metadata": {},
   "source": [
    "Converting hotel_code and location_code to string"
   ]
  },
  {
   "cell_type": "code",
   "execution_count": 3,
   "metadata": {},
   "outputs": [
    {
     "name": "stdout",
     "output_type": "stream",
     "text": [
      "hotel_code                   object\n",
      "country_code                 object\n",
      "country_name                 object\n",
      "location_code                object\n",
      "location_name                object\n",
      "hotel_type                   object\n",
      "rooms                       float64\n",
      "bubble_rating               float64\n",
      "bubble_one                    int64\n",
      "bubble_two                    int64\n",
      "bubble_three                  int64\n",
      "bubble_four                   int64\n",
      "bubble_five                   int64\n",
      "page_position               float64\n",
      "out_of                      float64\n",
      "reviews                       int64\n",
      "domestic_reviews              int64\n",
      "international_reviews         int64\n",
      "reviews_per_room            float64\n",
      "visitor_country1             object\n",
      "visitor_country2             object\n",
      "visitor_country3             object\n",
      "management_response_rate    float64\n",
      "independent_flag              int64\n",
      "traffic                     float64\n",
      "traffic_per_room            float64\n",
      "OTA_region_rate             float64\n",
      "subscriber                    int64\n",
      "hotel                         int64\n",
      "BandB                         int64\n",
      "Specialty                     int64\n",
      "dtype: object\n"
     ]
    }
   ],
   "source": [
    "# List of column names to convert from numeric to string\n",
    "columns_to_convert = ['hotel_code', 'location_code']  # Replace with your actual column names\n",
    "\n",
    "# Loop through the columns and convert to string\n",
    "for column in columns_to_convert:\n",
    "    hotels_df[column] = hotels_df[column].astype(str)\n",
    "\n",
    "# Check the result\n",
    "print(hotels_df.dtypes)  # To confirm the datatype of the columns\n"
   ]
  },
  {
   "cell_type": "markdown",
   "metadata": {},
   "source": [
    "**Q2:** Write a Python program to determine the number of hotel types and how many of each type."
   ]
  },
  {
   "cell_type": "code",
   "execution_count": 5,
   "metadata": {},
   "outputs": [
    {
     "name": "stdout",
     "output_type": "stream",
     "text": [
      "Number of hotel types: 3\n",
      "\n",
      "Count of each hotel type:\n",
      "hotel_type\n",
      "Hotel    184421\n",
      "B & B    119674\n",
      "Other     62549\n",
      "Name: count, dtype: int64\n"
     ]
    }
   ],
   "source": [
    "# Determine the number of hotel types and how many of each type\n",
    "hotel_types_count = hotels_df['hotel_type'].value_counts()\n",
    "\n",
    "# Display the number of hotel types and the count of each type\n",
    "num_hotel_types = hotel_types_count.shape[0]\n",
    "print(f\"Number of hotel types: {num_hotel_types}\")\n",
    "\n",
    "# Use more structured output for better readability\n",
    "print(\"\\nCount of each hotel type:\")\n",
    "print(hotel_types_count)\n"
   ]
  },
  {
   "cell_type": "code",
   "execution_count": null,
   "metadata": {},
   "outputs": [],
   "source": []
  },
  {
   "cell_type": "markdown",
   "metadata": {},
   "source": [
    "**Q3:** Using a dataframe.method1().method2() syntax, count the number of missing values in each column."
   ]
  },
  {
   "cell_type": "code",
   "execution_count": 7,
   "metadata": {},
   "outputs": [
    {
     "name": "stdout",
     "output_type": "stream",
     "text": [
      "Missing values count in each column:\n",
      "\n",
      "hotel_code                      0\n",
      "country_code                    0\n",
      "country_name                    0\n",
      "location_code                   0\n",
      "location_name                   2\n",
      "hotel_type                      0\n",
      "rooms                       31421\n",
      "bubble_rating               22518\n",
      "bubble_one                      0\n",
      "bubble_two                      0\n",
      "bubble_three                    0\n",
      "bubble_four                     0\n",
      "bubble_five                     0\n",
      "page_position                  42\n",
      "out_of                         42\n",
      "reviews                         0\n",
      "domestic_reviews                0\n",
      "international_reviews           0\n",
      "reviews_per_room            31421\n",
      "visitor_country1                0\n",
      "visitor_country2                0\n",
      "visitor_country3                0\n",
      "management_response_rate    22363\n",
      "independent_flag                0\n",
      "traffic                         2\n",
      "traffic_per_room            31423\n",
      "OTA_region_rate                 0\n",
      "subscriber                      0\n",
      "hotel                           0\n",
      "BandB                           0\n",
      "Specialty                       0\n",
      "dtype: int64\n"
     ]
    }
   ],
   "source": [
    "# Count the number of missing values in each column\n",
    "missing_values_count = hotels_df.isnull().sum()\n",
    "\n",
    "# Display the result in a more structured way\n",
    "print(\"Missing values count in each column:\\n\")\n",
    "print(missing_values_count)\n"
   ]
  },
  {
   "cell_type": "code",
   "execution_count": null,
   "metadata": {},
   "outputs": [],
   "source": []
  },
  {
   "cell_type": "markdown",
   "metadata": {},
   "source": [
    "**Q4:** For this assignment let's define a continuous variable as any numeric (integer and float) variable that has more than 10 distinct values in its distribution. Produce a table showing the mean, standard deviation, skewness and kurtosis of all the continuous variables."
   ]
  },
  {
   "cell_type": "markdown",
   "metadata": {},
   "source": [
    "The first step is to identify all the numeric variables."
   ]
  },
  {
   "cell_type": "code",
   "execution_count": 11,
   "metadata": {},
   "outputs": [
    {
     "name": "stdout",
     "output_type": "stream",
     "text": [
      "Continuous variables identified:\n",
      "<class 'pandas.core.frame.DataFrame'>\n",
      "RangeIndex: 366644 entries, 0 to 366643\n",
      "Data columns (total 16 columns):\n",
      " #   Column                    Non-Null Count   Dtype  \n",
      "---  ------                    --------------   -----  \n",
      " 0   rooms                     335223 non-null  float64\n",
      " 1   bubble_one                366644 non-null  int64  \n",
      " 2   bubble_two                366644 non-null  int64  \n",
      " 3   bubble_three              366644 non-null  int64  \n",
      " 4   bubble_four               366644 non-null  int64  \n",
      " 5   bubble_five               366644 non-null  int64  \n",
      " 6   page_position             366602 non-null  float64\n",
      " 7   out_of                    366602 non-null  float64\n",
      " 8   reviews                   366644 non-null  int64  \n",
      " 9   domestic_reviews          366644 non-null  int64  \n",
      " 10  international_reviews     366644 non-null  int64  \n",
      " 11  reviews_per_room          335223 non-null  float64\n",
      " 12  management_response_rate  344281 non-null  float64\n",
      " 13  traffic                   366642 non-null  float64\n",
      " 14  traffic_per_room          335221 non-null  float64\n",
      " 15  OTA_region_rate           366644 non-null  float64\n",
      "dtypes: float64(8), int64(8)\n",
      "memory usage: 44.8 MB\n",
      "None\n"
     ]
    }
   ],
   "source": [
    "# Identify numeric variables (integers and floats)\n",
    "numeric_vars = hotels_df.select_dtypes(include=['int64', 'float64'])\n",
    "\n",
    "#  Filter continuous variables (those with more than 10 distinct values)\n",
    "continuous_vars = numeric_vars.loc[:, numeric_vars.nunique() > 10]\n",
    "\n",
    "# Display the continuous variables for verification\n",
    "print(\"Continuous variables identified:\")\n",
    "print(continuous_vars.info())\n"
   ]
  },
  {
   "cell_type": "markdown",
   "metadata": {},
   "source": [
    "Next, calculate the four moment statistics that interest us."
   ]
  },
  {
   "cell_type": "code",
   "execution_count": 13,
   "metadata": {},
   "outputs": [
    {
     "name": "stdout",
     "output_type": "stream",
     "text": [
      "Summary statistics for continuous variables (mean, standard deviation, skewness, kurtosis):\n",
      "\n",
      "               rooms   bubble_one   bubble_two  bubble_three  bubble_four  \\\n",
      "mean       51.498062     3.059930     3.301742      7.014199    17.221073   \n",
      "std        95.269292    12.272278    11.517430     22.555240    50.082025   \n",
      "skew       12.419465    33.082025    25.459906     24.158969    15.065432   \n",
      "kurtosis  460.486705  2848.224489  1781.237316   1669.979088   530.741498   \n",
      "\n",
      "          bubble_five  page_position      out_of     reviews  \\\n",
      "mean        26.534543      48.547073  133.307404   62.237023   \n",
      "std         82.753286     170.905910  417.102635  181.939113   \n",
      "skew        16.435892       8.219367    6.729044   15.451969   \n",
      "kurtosis   580.735094      91.717439   56.277430  510.789682   \n",
      "\n",
      "          domestic_reviews  international_reviews  reviews_per_room  \\\n",
      "mean             30.749225              31.487797          3.610091   \n",
      "std             100.788155             117.149850          9.204125   \n",
      "skew             17.051120              17.301557         12.161772   \n",
      "kurtosis        699.315595             541.757871        365.691739   \n",
      "\n",
      "          management_response_rate       traffic  traffic_per_room  \\\n",
      "mean                      0.044547   6899.611179        325.724082   \n",
      "std                       0.101389  25954.347748       1074.048503   \n",
      "skew                      2.635651     25.305050         33.731399   \n",
      "kurtosis                  6.351735   1460.523851       2919.317583   \n",
      "\n",
      "          OTA_region_rate  \n",
      "mean           122.465120  \n",
      "std             48.982905  \n",
      "skew             2.472800  \n",
      "kurtosis        18.056053  \n"
     ]
    }
   ],
   "source": [
    "# Calculate mean, standard deviation, skewness, and kurtosis for continuous variables\n",
    "summary_stats = continuous_vars.agg(['mean', 'std', 'skew', 'kurtosis'])\n",
    "\n",
    "# Display the result in a more structured way\n",
    "print(\"Summary statistics for continuous variables (mean, standard deviation, skewness, kurtosis):\\n\")\n",
    "print(summary_stats)\n",
    "\n",
    "# Save the kurtosis values before outlier removal\n",
    "kurtosis_before = summary_stats.loc['kurtosis']\n"
   ]
  },
  {
   "cell_type": "code",
   "execution_count": null,
   "metadata": {},
   "outputs": [],
   "source": []
  },
  {
   "cell_type": "markdown",
   "metadata": {},
   "source": [
    "**Q5:** Find and replace all continuous variable outliers with missing values."
   ]
  },
  {
   "cell_type": "code",
   "execution_count": 18,
   "metadata": {},
   "outputs": [],
   "source": [
    "import numpy as np  \n",
    "\n",
    "# Define a function to replace outliers with NaN using the IQR method\n",
    "def replace_outliers_with_nan(df):\n",
    "    \"\"\"\n",
    "    This function replaces outliers in a DataFrame with NaN based on the IQR method.\n",
    "    Outliers are defined as values that lie below Q1 - 1.5 * IQR or above Q3 + 1.5 * IQR.\n",
    "    \n",
    "    Parameters:\n",
    "    df (DataFrame): The DataFrame with continuous variables.\n",
    "    \n",
    "    Returns:\n",
    "    DataFrame: The DataFrame with outliers replaced by NaN.\n",
    "    \"\"\"\n",
    "    for col in df.columns:\n",
    "        # Calculate Q1 (25th percentile) and Q3 (75th percentile)\n",
    "        Q1 = df[col].quantile(0.25)\n",
    "        Q3 = df[col].quantile(0.75)\n",
    "        \n",
    "        # Calculate the Interquartile Range (IQR)\n",
    "        IQR = Q3 - Q1\n",
    "        \n",
    "        # Define the lower and upper bounds for outliers\n",
    "        lower_bound = Q1 - 1.5 * IQR\n",
    "        upper_bound = Q3 + 1.5 * IQR\n",
    "        \n",
    "        # Replace outliers with NaN\n",
    "        df.loc[(df[col] < lower_bound) | (df[col] > upper_bound), col] = np.nan\n",
    "    \n",
    "    return df\n"
   ]
  },
  {
   "cell_type": "code",
   "execution_count": 20,
   "metadata": {},
   "outputs": [
    {
     "name": "stdout",
     "output_type": "stream",
     "text": [
      "Updated DataFrame with outliers replaced by NaN:\n",
      "\n",
      "        rooms  bubble_one  bubble_two  bubble_three  bubble_four  bubble_five  \\\n",
      "0         NaN         NaN         NaN           NaN          NaN          NaN   \n",
      "1        60.0         4.0         7.0          11.0         30.0         36.0   \n",
      "2         5.0         1.0         1.0           1.0         11.0          NaN   \n",
      "3         9.0         0.0         0.0           0.0          3.0          1.0   \n",
      "4         4.0         5.0         1.0           0.0          0.0          3.0   \n",
      "...       ...         ...         ...           ...          ...          ...   \n",
      "366639    NaN         0.0         0.0           0.0          1.0          0.0   \n",
      "366640    NaN         0.0         0.0           0.0          1.0          0.0   \n",
      "366641    NaN         0.0         0.0           2.0          1.0          0.0   \n",
      "366642    NaN         0.0         0.0           0.0          1.0          0.0   \n",
      "366643  113.0         0.0         0.0           0.0          2.0          0.0   \n",
      "\n",
      "        page_position  out_of  reviews  domestic_reviews  \\\n",
      "0                 4.0    69.0      NaN               NaN   \n",
      "1                 1.0     5.0    101.0               NaN   \n",
      "2                 1.0     2.0    113.0               NaN   \n",
      "3                 2.0     2.0      4.0               4.0   \n",
      "4                 1.0     1.0      8.0               8.0   \n",
      "...               ...     ...      ...               ...   \n",
      "366639            NaN     NaN      1.0               0.0   \n",
      "366640            NaN     NaN      1.0               0.0   \n",
      "366641            NaN     NaN      3.0               0.0   \n",
      "366642            NaN     NaN      1.0               0.0   \n",
      "366643            NaN     NaN      2.0               0.0   \n",
      "\n",
      "        international_reviews  reviews_per_room  management_response_rate  \\\n",
      "0                         NaN          1.978062                       NaN   \n",
      "1                         5.0          1.683333                       NaN   \n",
      "2                         8.0               NaN                  0.016393   \n",
      "3                         0.0          0.444444                  0.000000   \n",
      "4                         0.0          2.000000                  0.000000   \n",
      "...                       ...               ...                       ...   \n",
      "366639                    1.0               NaN                  0.000000   \n",
      "366640                    1.0               NaN                  0.000000   \n",
      "366641                    3.0               NaN                  0.000000   \n",
      "366642                    1.0               NaN                  0.000000   \n",
      "366643                    2.0          0.017699                  0.000000   \n",
      "\n",
      "        traffic  traffic_per_room  OTA_region_rate  \n",
      "0           NaN        110.864717       196.643125  \n",
      "1        6971.0        116.183333       124.976060  \n",
      "2        4405.0               NaN        99.848333  \n",
      "3         889.0         98.777778       124.976060  \n",
      "4        1673.0        418.250000       124.976060  \n",
      "...         ...               ...              ...  \n",
      "366639    117.0               NaN        63.581571  \n",
      "366640     45.0               NaN        63.581571  \n",
      "366641    722.0               NaN        63.581571  \n",
      "366642     56.0               NaN        63.581571  \n",
      "366643    112.0          0.991150        63.581571  \n",
      "\n",
      "[366644 rows x 16 columns]\n"
     ]
    }
   ],
   "source": [
    "# Replace outliers with NaN in continuous variables\n",
    "continuous_vars_cleaned = replace_outliers_with_nan(continuous_vars)\n",
    "\n",
    "# Update the original dataframe with the cleaned continuous variables\n",
    "hotels_df[continuous_vars.columns] = continuous_vars_cleaned\n",
    "\n",
    "# Display the updated dataframe with outliers replaced by NaN\n",
    "print(\"Updated DataFrame with outliers replaced by NaN:\\n\")\n",
    "print(continuous_vars_cleaned)\n"
   ]
  },
  {
   "cell_type": "code",
   "execution_count": null,
   "metadata": {},
   "outputs": [],
   "source": []
  },
  {
   "cell_type": "markdown",
   "metadata": {},
   "source": [
    "**Q6:** Impute all continuous variable missing values with the means of those variables."
   ]
  },
  {
   "cell_type": "markdown",
   "metadata": {},
   "source": [
    "Note that bubble_rating still has missing values because it only has five distinct values and should not be treated as a continuous numeric variable. It is not entirely categorical either but rather it is a discrete numeric variable where statistics such as mean have meaning."
   ]
  },
  {
   "cell_type": "code",
   "execution_count": 22,
   "metadata": {},
   "outputs": [
    {
     "name": "stdout",
     "output_type": "stream",
     "text": [
      "Updated DataFrame with imputed missing values in continuous variables:\n",
      "\n",
      "             rooms  bubble_one  bubble_two  bubble_three  bubble_four  \\\n",
      "0        26.471234     0.83531    1.149473      2.582322      6.30157   \n",
      "1        60.000000     4.00000    7.000000     11.000000     30.00000   \n",
      "2         5.000000     1.00000    1.000000      1.000000     11.00000   \n",
      "3         9.000000     0.00000    0.000000      0.000000      3.00000   \n",
      "4         4.000000     5.00000    1.000000      0.000000      0.00000   \n",
      "...            ...         ...         ...           ...          ...   \n",
      "366639   26.471234     0.00000    0.000000      0.000000      1.00000   \n",
      "366640   26.471234     0.00000    0.000000      0.000000      1.00000   \n",
      "366641   26.471234     0.00000    0.000000      2.000000      1.00000   \n",
      "366642   26.471234     0.00000    0.000000      0.000000      1.00000   \n",
      "366643  113.000000     0.00000    0.000000      0.000000      2.00000   \n",
      "\n",
      "        bubble_five  page_position     out_of    reviews  domestic_reviews  \\\n",
      "0          8.866213       4.000000  69.000000   24.25851          9.762013   \n",
      "1         36.000000       1.000000   5.000000  101.00000          9.762013   \n",
      "2          8.866213       1.000000   2.000000  113.00000          9.762013   \n",
      "3          1.000000       2.000000   2.000000    4.00000          4.000000   \n",
      "4          3.000000       1.000000   1.000000    8.00000          8.000000   \n",
      "...             ...            ...        ...        ...               ...   \n",
      "366639     0.000000       9.749056  30.952987    1.00000          0.000000   \n",
      "366640     0.000000       9.749056  30.952987    1.00000          0.000000   \n",
      "366641     0.000000       9.749056  30.952987    3.00000          0.000000   \n",
      "366642     0.000000       9.749056  30.952987    1.00000          0.000000   \n",
      "366643     0.000000       9.749056  30.952987    2.00000          0.000000   \n",
      "\n",
      "        international_reviews  reviews_per_room  management_response_rate  \\\n",
      "0                      8.3062          1.978062                  0.003069   \n",
      "1                      5.0000          1.683333                  0.003069   \n",
      "2                      8.0000          1.436526                  0.016393   \n",
      "3                      0.0000          0.444444                  0.000000   \n",
      "4                      0.0000          2.000000                  0.000000   \n",
      "...                       ...               ...                       ...   \n",
      "366639                 1.0000          1.436526                  0.000000   \n",
      "366640                 1.0000          1.436526                  0.000000   \n",
      "366641                 3.0000          1.436526                  0.000000   \n",
      "366642                 1.0000          1.436526                  0.000000   \n",
      "366643                 2.0000          0.017699                  0.000000   \n",
      "\n",
      "            traffic  traffic_per_room  OTA_region_rate  \n",
      "0       2405.020078        110.864717       196.643125  \n",
      "1       6971.000000        116.183333       124.976060  \n",
      "2       4405.000000        147.174515        99.848333  \n",
      "3        889.000000         98.777778       124.976060  \n",
      "4       1673.000000        418.250000       124.976060  \n",
      "...             ...               ...              ...  \n",
      "366639   117.000000        147.174515        63.581571  \n",
      "366640    45.000000        147.174515        63.581571  \n",
      "366641   722.000000        147.174515        63.581571  \n",
      "366642    56.000000        147.174515        63.581571  \n",
      "366643   112.000000          0.991150        63.581571  \n",
      "\n",
      "[366644 rows x 16 columns]\n"
     ]
    }
   ],
   "source": [
    "# For 'bubble_rating', if needed, replace missing values with its mean\n",
    "if 'bubble_rating' in hotels_df.columns:\n",
    "    hotels_df['bubble_rating'] = hotels_df['bubble_rating'].fillna(hotels_df['bubble_rating'].mean())\n",
    "    \n",
    "# Impute missing values in continuous variables with their respective means\n",
    "continuous_vars_imputed = continuous_vars.apply(lambda x: x.fillna(x.mean()))\n",
    "\n",
    "# Update the original dataframe with the imputed continuous variables\n",
    "hotels_df[continuous_vars.columns]  = continuous_vars_imputed \n",
    "\n",
    "# Display the updated dataframe with imputed missing values\n",
    "print(\"Updated DataFrame with imputed missing values in continuous variables:\\n\")\n",
    "print(continuous_vars_imputed )\n"
   ]
  },
  {
   "cell_type": "code",
   "execution_count": null,
   "metadata": {},
   "outputs": [],
   "source": []
  },
  {
   "cell_type": "markdown",
   "metadata": {},
   "source": []
  },
  {
   "cell_type": "markdown",
   "metadata": {},
   "source": [
    "**Q7:** How has the kurtosis changed for each of the variables that had outliers removed and then imputed?"
   ]
  },
  {
   "cell_type": "markdown",
   "metadata": {},
   "source": [
    "Be sure that all the kurtosis values are less than those before outlier removal."
   ]
  },
  {
   "cell_type": "raw",
   "metadata": {},
   "source": [
    "Kurtosis  After Outlier Removal"
   ]
  },
  {
   "cell_type": "code",
   "execution_count": 24,
   "metadata": {},
   "outputs": [
    {
     "name": "stdout",
     "output_type": "stream",
     "text": [
      "Kurtosis after outlier removal and imputation:\n",
      " rooms                        2.827523\n",
      "bubble_one                   2.598653\n",
      "bubble_two                   2.767351\n",
      "bubble_three                 2.814132\n",
      "bubble_four                  2.427834\n",
      "bubble_five                  2.905318\n",
      "page_position                3.855038\n",
      "out_of                       3.637329\n",
      "reviews                      2.442522\n",
      "domestic_reviews             2.920094\n",
      "international_reviews        3.257289\n",
      "reviews_per_room             3.094558\n",
      "management_response_rate    15.581105\n",
      "traffic                      2.554979\n",
      "traffic_per_room             2.420280\n",
      "OTA_region_rate              0.050273\n",
      "Name: kurtosis, dtype: float64\n"
     ]
    }
   ],
   "source": [
    "# Calculate kurtosis after outlier removal and imputation\n",
    "summary_stats_after = continuous_vars_imputed.agg(['mean', 'std', 'skew', 'kurtosis'])\n",
    "\n",
    "# Save the kurtosis values after outlier removal and imputation\n",
    "kurtosis_after = summary_stats_after.loc['kurtosis']\n",
    "\n",
    "# Display kurtosis after outlier removal and imputation\n",
    "print(\"Kurtosis after outlier removal and imputation:\\n\", kurtosis_after)\n",
    "\n",
    "\n"
   ]
  },
  {
   "cell_type": "code",
   "execution_count": null,
   "metadata": {},
   "outputs": [],
   "source": []
  },
  {
   "cell_type": "markdown",
   "metadata": {},
   "source": [
    "Compare Kurtosis Before and After"
   ]
  },
  {
   "cell_type": "code",
   "execution_count": 25,
   "metadata": {},
   "outputs": [
    {
     "name": "stdout",
     "output_type": "stream",
     "text": [
      "Kurtosis comparison before and after outlier removal and imputation:\n",
      "\n",
      "                          Kurtosis Before  Kurtosis After  Kurtosis Reduced\n",
      "hotel_code                      -1.200000       -1.200000             False\n",
      "location_code                    8.549454        0.522790              True\n",
      "rooms                          460.486705        2.827523              True\n",
      "bubble_one                    2848.224489        2.598653              True\n",
      "bubble_two                    1781.237316        2.767351              True\n",
      "bubble_three                  1669.979088        2.814132              True\n",
      "bubble_four                    530.741498        2.427834              True\n",
      "bubble_five                    580.735094        2.905318              True\n",
      "page_position                   91.717439        3.855038              True\n",
      "out_of                          56.277430        3.637329              True\n",
      "reviews                        510.789682        2.442522              True\n",
      "domestic_reviews               699.315595        2.920094              True\n",
      "international_reviews          541.757871        3.257289              True\n",
      "reviews_per_room               365.691739        3.094558              True\n",
      "management_response_rate         6.351735       15.581105             False\n",
      "traffic                       1460.523851        2.554979              True\n",
      "traffic_per_room              2919.317583        2.420280              True\n",
      "OTA_region_rate                 18.056053        0.050273              True\n"
     ]
    }
   ],
   "source": [
    "# Create a DataFrame to compare kurtosis before and after outlier removal and imputation\n",
    "kurtosis_comparison = pd.DataFrame({\n",
    "    'Kurtosis Before': kurtosis_before,\n",
    "    'Kurtosis After': kurtosis_after\n",
    "})\n",
    "\n",
    "# Step 5: Add a column to check if kurtosis has reduced after outlier removal\n",
    "kurtosis_comparison['Kurtosis Reduced'] = kurtosis_comparison['Kurtosis After'] < kurtosis_comparison['Kurtosis Before']\n",
    "\n",
    "# Display the kurtosis comparison table\n",
    "print(\"Kurtosis comparison before and after outlier removal and imputation:\\n\")\n",
    "print(kurtosis_comparison)\n"
   ]
  },
  {
   "cell_type": "code",
   "execution_count": 2,
   "metadata": {},
   "outputs": [
    {
     "ename": "SyntaxError",
     "evalue": "invalid syntax (1216548545.py, line 1)",
     "output_type": "error",
     "traceback": [
      "\u001b[1;36m  Cell \u001b[1;32mIn[2], line 1\u001b[1;36m\u001b[0m\n\u001b[1;33m    df <- data.frame(variable_a = 16:8, variable_b = c(20:19, 6:12))\u001b[0m\n\u001b[1;37m                                    ^\u001b[0m\n\u001b[1;31mSyntaxError\u001b[0m\u001b[1;31m:\u001b[0m invalid syntax\n"
     ]
    }
   ],
   "source": []
  },
  {
   "cell_type": "code",
   "execution_count": null,
   "metadata": {},
   "outputs": [],
   "source": []
  }
 ],
 "metadata": {
  "kernelspec": {
   "display_name": "Python 3 (ipykernel)",
   "language": "python",
   "name": "python3"
  },
  "language_info": {
   "codemirror_mode": {
    "name": "ipython",
    "version": 3
   },
   "file_extension": ".py",
   "mimetype": "text/x-python",
   "name": "python",
   "nbconvert_exporter": "python",
   "pygments_lexer": "ipython3",
   "version": "3.12.4"
  }
 },
 "nbformat": 4,
 "nbformat_minor": 4
}
